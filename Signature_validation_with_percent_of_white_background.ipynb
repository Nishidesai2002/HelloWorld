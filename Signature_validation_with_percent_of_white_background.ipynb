{
  "nbformat": 4,
  "nbformat_minor": 0,
  "metadata": {
    "colab": {
      "provenance": [],
      "authorship_tag": "ABX9TyNceYxmGvuE1ZTwUqc86mFj",
      "include_colab_link": true
    },
    "kernelspec": {
      "name": "python3",
      "display_name": "Python 3"
    },
    "language_info": {
      "name": "python"
    }
  },
  "cells": [
    {
      "cell_type": "markdown",
      "metadata": {
        "id": "view-in-github",
        "colab_type": "text"
      },
      "source": [
        "<a href=\"https://colab.research.google.com/github/Nishidesai2002/HelloWorld/blob/master/Signature_validation_with_percent_of_white_background.ipynb\" target=\"_parent\"><img src=\"https://colab.research.google.com/assets/colab-badge.svg\" alt=\"Open In Colab\"/></a>"
      ]
    },
    {
      "cell_type": "code",
      "source": [
        "import os\n",
        "import cv2\n",
        "import numpy as np\n",
        "\n",
        "# Load images from the specified folder\n",
        "def load_images_from_folder(folder):\n",
        "    images = []\n",
        "    image_paths = []\n",
        "    for filename in os.listdir(folder):\n",
        "        img_path = os.path.join(folder, filename)\n",
        "        if img_path.lower().endswith(('.png', '.jpg', '.jpeg')):\n",
        "            img = cv2.imread(img_path)\n",
        "            if img is not None:\n",
        "                images.append(img)\n",
        "                image_paths.append(img_path)\n",
        "    return images, image_paths\n",
        "\n",
        "# Path to the folder containing the signatures to validate\n",
        "folder_to_validate = r\"/content/signature\"\n",
        "\n",
        "# Load images from the folder\n",
        "images, image_paths = load_images_from_folder(folder_to_validate)\n",
        "\n",
        "# Function to analyze the background of an image\n",
        "def analyze_background(image):\n",
        "    # Convert to grayscale and apply a threshold\n",
        "    gray = cv2.cvtColor(image, cv2.COLOR_BGR2GRAY)\n",
        "    _, thresh = cv2.threshold(gray, 240, 255, cv2.THRESH_BINARY)\n",
        "\n",
        "    # Calculate the percentage of white background\n",
        "    background_area = np.sum(thresh == 255)\n",
        "    total_area = thresh.size\n",
        "    background_percentage = (background_area / total_area) * 100\n",
        "\n",
        "    return background_percentage\n",
        "\n",
        "# Function to detect blurriness in an image\n",
        "def detect_blurriness(image):\n",
        "    gray = cv2.cvtColor(image, cv2.COLOR_BGR2GRAY)\n",
        "    laplacian_var = cv2.Laplacian(gray, cv2.CV_64F).var()\n",
        "    return laplacian_var\n",
        "\n",
        "# Function to check for capture imperfections in an image\n",
        "def check_imperfections(image):\n",
        "    height, width = image.shape[:2]\n",
        "    if height < 40 or width < 120:  # Example dimension criteria\n",
        "        return True\n",
        "    return False\n",
        "\n",
        "# Function to validate a signature\n",
        "def validate_signature(image_path):\n",
        "    # Load the image\n",
        "    image = cv2.imread(image_path)\n",
        "\n",
        "    if image is None:\n",
        "        print(f\"{image_path}: Could not load the image.\")\n",
        "        return {\"signature_valid\": False, \"reason\": \"Image loading failed\"}\n",
        "\n",
        "    # Analyze the background\n",
        "    bg_percentage = analyze_background(image)\n",
        "\n",
        "    # Check for blurriness\n",
        "    blur_score = detect_blurriness(image)\n",
        "\n",
        "    # Check for imperfections\n",
        "    imperfection_flag = check_imperfections(image)\n",
        "\n",
        "    # Define thresholds\n",
        "    WHITE_BG_THRESHOLD = 95.0  # Percentage of white background\n",
        "    BLUR_THRESHOLD = 100.0  # Laplacian variance threshold\n",
        "\n",
        "    # Validate based on the checks\n",
        "    if bg_percentage > WHITE_BG_THRESHOLD:\n",
        "        return {\"signature_valid\": False, \"reason\": \"Excessive white background\"}\n",
        "\n",
        "    if blur_score < BLUR_THRESHOLD:\n",
        "        return {\"signature_valid\": False, \"reason\": \"Blurriness detected\"}\n",
        "\n",
        "    if imperfection_flag:\n",
        "        return {\"signature_valid\": False, \"reason\": \"Capture imperfections\"}\n",
        "\n",
        "    return {\n",
        "        \"signature_valid\": True,\n",
        "        \"background_percentage\": bg_percentage,\n",
        "        \"blur_score\": blur_score\n",
        "    }\n",
        "\n",
        "# Iterate through all images in the folder and validate them\n",
        "results = []\n",
        "for image_path in image_paths:\n",
        "    result = validate_signature(image_path)\n",
        "    print(f\"{image_path}: {result}\")\n",
        "    results.append(result)\n",
        "\n",
        "# Print final summary of results\n",
        "print(\"\\nSummary of Validation Results:\")\n",
        "for i, res in enumerate(results):\n",
        "    print(f\"{image_paths[i]}: {res}\")\n"
      ],
      "metadata": {
        "colab": {
          "base_uri": "https://localhost:8080/"
        },
        "id": "1hRHcY_Li8Q0",
        "outputId": "18bf3ed9-ea8c-4caf-f3d1-cf540d3b24d4"
      },
      "execution_count": 2,
      "outputs": [
        {
          "output_type": "stream",
          "name": "stdout",
          "text": [
            "/content/signature/107_data (2750).jpg: {'signature_valid': True, 'background_percentage': 0.0, 'blur_score': 167.66515361639196}\n",
            "/content/signature/103_data (3760).jpg: {'signature_valid': True, 'background_percentage': 0.26359932901988975, 'blur_score': 2053.1487138395396}\n",
            "/content/signature/96_data.jpg: {'signature_valid': False, 'reason': 'Blurriness detected'}\n",
            "/content/signature/IMG_20240607_103003.jpg: {'signature_valid': False, 'reason': 'Blurriness detected'}\n",
            "/content/signature/IMG_20240607_103003 (1).jpg: {'signature_valid': False, 'reason': 'Blurriness detected'}\n",
            "/content/signature/98_data (2986).jpg: {'signature_valid': True, 'background_percentage': 0.0, 'blur_score': 289.9210480862852}\n",
            "\n",
            "Summary of Validation Results:\n",
            "/content/signature/107_data (2750).jpg: {'signature_valid': True, 'background_percentage': 0.0, 'blur_score': 167.66515361639196}\n",
            "/content/signature/103_data (3760).jpg: {'signature_valid': True, 'background_percentage': 0.26359932901988975, 'blur_score': 2053.1487138395396}\n",
            "/content/signature/96_data.jpg: {'signature_valid': False, 'reason': 'Blurriness detected'}\n",
            "/content/signature/IMG_20240607_103003.jpg: {'signature_valid': False, 'reason': 'Blurriness detected'}\n",
            "/content/signature/IMG_20240607_103003 (1).jpg: {'signature_valid': False, 'reason': 'Blurriness detected'}\n",
            "/content/signature/98_data (2986).jpg: {'signature_valid': True, 'background_percentage': 0.0, 'blur_score': 289.9210480862852}\n"
          ]
        }
      ]
    }
  ]
}